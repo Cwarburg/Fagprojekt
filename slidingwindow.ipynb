{
 "cells": [
  {
   "cell_type": "code",
   "execution_count": 98,
   "metadata": {},
   "outputs": [],
   "source": [
    "import numpy as np\n",
    "import pandas as pd\n",
    "import matplotlib.pyplot as plt\n",
    "import seaborn as sns"
   ]
  },
  {
   "cell_type": "code",
   "execution_count": 171,
   "metadata": {},
   "outputs": [
    {
     "name": "stdout",
     "output_type": "stream",
     "text": [
      "44.61454814177765\n",
      "2.1851127545790074\n",
      "Theta mean: 1.1555022961714163\n",
      "Theta std: 0.05250115987577801\n"
     ]
    }
   ],
   "source": [
    "data = pd.read_csv('/Users/christianwarburg/Desktop/Fagproject/miguel_exp/logoball/zerotilt/10rpm_rotation.csv')\n",
    "data['rpm'] = data['angular_velocity'] * 60 / (2 * np.pi)\n",
    "\n",
    "\n",
    "#Rolling window\n",
    "k = 20 #250ms\n",
    "\n",
    "data['rolling_rpm'] = data['rpm'].rolling(k).mean()\n",
    "#Compute theta and phi\n",
    "data['theta'] = np.arccos(data['rotation_axis_y'])\n",
    "data['rolling_theta'] = data['theta'].rolling(k).mean()\n",
    "\n",
    "#Print mean roll\n",
    "print(data['rolling_rpm'].mean())\n",
    "print(data['rolling_rpm'].std())\n",
    "print('Theta mean:', data['rolling_theta'].mean())\n",
    "print('Theta std:', data['rolling_theta'].std())\n"
   ]
  },
  {
   "cell_type": "code",
   "execution_count": 116,
   "metadata": {},
   "outputs": [
    {
     "data": {
      "text/plain": [
       "1.5173437695087844"
      ]
     },
     "execution_count": 116,
     "metadata": {},
     "output_type": "execute_result"
    }
   ],
   "source": [
    "#Compute rpm from angular velocity\n",
    "\n",
    "\n",
    "\n",
    "#White ball\n",
    "enhanced_ball = data[\n",
    "    (data['ball_type'] == 'enhancedball') & \n",
    "    (data['rpm'] == '50rpm') & \n",
    "    (data['tilt'] == 'zerotilt')\n",
    "]\n",
    "\n",
    "enhanced_ball['angular_velocity'].max()\n"
   ]
  },
  {
   "cell_type": "code",
   "execution_count": null,
   "metadata": {},
   "outputs": [
    {
     "name": "stdout",
     "output_type": "stream",
     "text": [
      "Number of observations for logoball_0tilt_10rpm: 667\n",
      "Number of observations for logoball_0tilt_50rpm: 569\n",
      "Number of observations for logoball_0tilt_100rpm: 354\n",
      "Number of observations for logoball_25tilt_10rpm: 1041\n",
      "Number of observations for logoball_25tilt_50rpm: 538\n",
      "Number of observations for logoball_25tilt_100rpm: 463\n"
     ]
    }
   ],
   "source": []
  },
  {
   "cell_type": "code",
   "execution_count": null,
   "metadata": {},
   "outputs": [
    {
     "name": "stdout",
     "output_type": "stream",
     "text": [
      "Number of observations for enhancedball_0tilt_10rpm: 548\n",
      "Number of observations for enhancedball_0tilt_50rpm: 400\n",
      "Number of observations for enhancedball_0tilt_100rpm: 505\n",
      "Number of observations for enhancedball_25tilt_10rpm: 527\n",
      "Number of observations for enhancedball_25tilt_50rpm: 492\n",
      "Number of observations for enhancedball_25tilt_100rpm: 556\n"
     ]
    }
   ],
   "source": []
  },
  {
   "cell_type": "code",
   "execution_count": null,
   "metadata": {},
   "outputs": [
    {
     "name": "stdout",
     "output_type": "stream",
     "text": [
      "White ball 0 tilt 10 rpm mean: 5.3741592889440035\n",
      "White ball 0 tilt 50 rpm mean: 9.63530816607024\n",
      "White ball 0 tilt 100 rpm mean: 16.111153458461118\n",
      "White ball 25 tilt 10 rpm mean: 16.79116824669529\n",
      "White ball 25 tilt 50 rpm mean: 9.083552323158145\n",
      "White ball 25 tilt 100 rpm mean: 22.645083541467795\n",
      "Logo ball 0 tilt 10 rpm mean: 1.5405143748899457\n",
      "Logo ball 0 tilt 50 rpm mean: 2.816737070977505\n",
      "Logo ball 0 tilt 100 rpm mean: 1.7435529405011976\n",
      "Logo ball 25 tilt 10 rpm mean: 2.1025295344808344\n",
      "Logo ball 25 tilt 50 rpm mean: 1.4281571690803316\n",
      "Logo ball 25 tilt 100 rpm mean: 2.3675838270579153\n",
      "Enhanced ball 0 tilt 10 rpm mean: 1.7227436652472017\n",
      "Enhanced ball 0 tilt 50 rpm mean: 5.688672051106173\n",
      "Enhanced ball 0 tilt 100 rpm mean: 11.097469328209067\n",
      "Enhanced ball 25 tilt 10 rpm mean: 1.613368761519128\n",
      "Enhanced ball 25 tilt 50 rpm mean: 5.335349014746696\n",
      "Enhanced ball 25 tilt 100 rpm mean: 8.937232075189053\n"
     ]
    }
   ],
   "source": []
  },
  {
   "cell_type": "code",
   "execution_count": null,
   "metadata": {},
   "outputs": [
    {
     "name": "stdout",
     "output_type": "stream",
     "text": [
      "93.81333333333333\n",
      "154.0\n",
      "logos\n",
      "94.01333333333334\n",
      "157.66666666666666\n",
      "dots\n",
      "93.70666666666666\n",
      "187.0\n"
     ]
    }
   ],
   "source": []
  }
 ],
 "metadata": {
  "kernelspec": {
   "display_name": "base",
   "language": "python",
   "name": "python3"
  },
  "language_info": {
   "codemirror_mode": {
    "name": "ipython",
    "version": 3
   },
   "file_extension": ".py",
   "mimetype": "text/x-python",
   "name": "python",
   "nbconvert_exporter": "python",
   "pygments_lexer": "ipython3",
   "version": "3.11.3"
  }
 },
 "nbformat": 4,
 "nbformat_minor": 2
}
